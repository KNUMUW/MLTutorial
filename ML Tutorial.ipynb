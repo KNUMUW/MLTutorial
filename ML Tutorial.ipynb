{
 "cells": [
  {
   "cell_type": "code",
   "execution_count": 1,
   "metadata": {
    "collapsed": true
   },
   "outputs": [],
   "source": [
    "import numpy as np\n",
    "import pandas as pd\n",
    "import sklearn"
   ]
  },
  {
   "cell_type": "code",
   "execution_count": 2,
   "metadata": {
    "collapsed": true
   },
   "outputs": [],
   "source": [
    "pokemon = pd.read_csv(\"pokemon.csv\")\n",
    "combats = pd.read_csv(\"combats.csv\")\n",
    "X_combats = combats[combats.columns[:2]]\n",
    "y = 1*(combats.values[:,0]==combats.values[:,2])"
   ]
  },
  {
   "cell_type": "code",
   "execution_count": 3,
   "metadata": {
    "collapsed": true
   },
   "outputs": [],
   "source": [
    "pokemon = pokemon[['#','Type 1', 'Type 2', 'HP', 'Attack', 'Defense', 'Sp. Atk', 'Sp. Def', 'Speed']]"
   ]
  },
  {
   "cell_type": "code",
   "execution_count": 4,
   "metadata": {},
   "outputs": [
    {
     "name": "stdout",
     "output_type": "stream",
     "text": [
      "   # Type 1  Type 2  HP  Attack  Defense  Sp. Atk  Sp. Def  Speed\n",
      "0  1  Grass  Poison  45      49       49       65       65     45\n",
      "1  2  Grass  Poison  60      62       63       80       80     60\n",
      "2  3  Grass  Poison  80      82       83      100      100     80\n",
      "3  4  Grass  Poison  80     100      123      122      120     80\n",
      "4  5   Fire     NaN  39      52       43       60       50     65\n",
      "   First_pokemon  Second_pokemon\n",
      "0            266             298\n",
      "1            702             701\n",
      "2            191             668\n",
      "3            237             683\n",
      "4            151             231\n"
     ]
    }
   ],
   "source": [
    "print(pokemon.head())\n",
    "print(X_combats.head())"
   ]
  },
  {
   "cell_type": "code",
   "execution_count": 5,
   "metadata": {
    "collapsed": true
   },
   "outputs": [],
   "source": [
    "m1 = X_combats.merge(pokemon, left_on = 'First_pokemon', right_on = '#', how = 'left')\n",
    "X = m1.merge(pokemon, left_on = 'Second_pokemon', right_on = '#', how = 'left')\n",
    "X = X[['Type 1_x', 'Type 2_x','HP_x', 'Attack_x', 'Defense_x', 'Sp. Atk_x', 'Sp. Def_x', 'Speed_x', 'Type 1_y', 'Type 2_y', 'HP_y', 'Attack_y', 'Defense_y',\n",
    "       'Sp. Atk_y', 'Sp. Def_y', 'Speed_y']]"
   ]
  },
  {
   "cell_type": "code",
   "execution_count": 6,
   "metadata": {
    "collapsed": true
   },
   "outputs": [],
   "source": [
    "X = X.fillna('Notype')"
   ]
  },
  {
   "cell_type": "code",
   "execution_count": 7,
   "metadata": {
    "collapsed": true
   },
   "outputs": [],
   "source": [
    "from sklearn.preprocessing import LabelEncoder\n",
    "from sklearn.preprocessing import OneHotEncoder\n",
    "type_encoder = LabelEncoder()\n",
    "type_onehot = OneHotEncoder()\n",
    "typelist = X[['Type 1_x','Type 2_x','Type 1_y', 'Type 2_y']].values.flatten()\n",
    "type_nums = type_encoder.fit_transform(typelist)\n",
    "onehottypes = type_onehot.fit_transform(type_nums.reshape(-1,1))"
   ]
  },
  {
   "cell_type": "code",
   "execution_count": 8,
   "metadata": {},
   "outputs": [
    {
     "name": "stderr",
     "output_type": "stream",
     "text": [
      "C:\\Users\\Mateusz\\Anaconda3\\lib\\site-packages\\sklearn\\preprocessing\\label.py:151: DeprecationWarning: The truth value of an empty array is ambiguous. Returning False, but in future this will result in an error. Use `array.size > 0` to check that an array is not empty.\n",
      "  if diff:\n",
      "C:\\Users\\Mateusz\\Anaconda3\\lib\\site-packages\\sklearn\\preprocessing\\label.py:151: DeprecationWarning: The truth value of an empty array is ambiguous. Returning False, but in future this will result in an error. Use `array.size > 0` to check that an array is not empty.\n",
      "  if diff:\n",
      "C:\\Users\\Mateusz\\Anaconda3\\lib\\site-packages\\sklearn\\preprocessing\\label.py:151: DeprecationWarning: The truth value of an empty array is ambiguous. Returning False, but in future this will result in an error. Use `array.size > 0` to check that an array is not empty.\n",
      "  if diff:\n",
      "C:\\Users\\Mateusz\\Anaconda3\\lib\\site-packages\\sklearn\\preprocessing\\label.py:151: DeprecationWarning: The truth value of an empty array is ambiguous. Returning False, but in future this will result in an error. Use `array.size > 0` to check that an array is not empty.\n",
      "  if diff:\n"
     ]
    }
   ],
   "source": [
    "type_frames = {}\n",
    "for name in ['Type 1_x','Type 2_x','Type 1_y', 'Type 2_y']:\n",
    "    encoded = type_onehot.transform(type_encoder.transform(X[name]).reshape(-1,1)).toarray()\n",
    "    type_frames[name] = pd.DataFrame(encoded, columns = [name + ' ' + elem for elem in type_encoder.inverse_transform(range(19))])"
   ]
  },
  {
   "cell_type": "code",
   "execution_count": 9,
   "metadata": {
    "collapsed": true
   },
   "outputs": [],
   "source": [
    "types_encoded = pd.concat([type_frames[elem] for elem in ['Type 1_x','Type 2_x','Type 1_y', 'Type 2_y']], axis = 1)"
   ]
  },
  {
   "cell_type": "code",
   "execution_count": 10,
   "metadata": {
    "collapsed": true
   },
   "outputs": [],
   "source": [
    "X = X[['HP_x', 'Attack_x', 'Defense_x', 'Sp. Atk_x', 'Sp. Def_x', 'Speed_x', 'HP_y', 'Attack_y', 'Defense_y', 'Sp. Atk_y', 'Sp. Def_y', 'Speed_y']]\n",
    "X = pd.concat([X,types_encoded], axis = 1)"
   ]
  },
  {
   "cell_type": "code",
   "execution_count": null,
   "metadata": {
    "collapsed": true
   },
   "outputs": [],
   "source": [
    "from sklearn.model_selection import train_test_split\n",
    "X_train, X_test, y_train, y_test = train_test_split(X, y, test_size=0.2, random_state=42)"
   ]
  },
  {
   "cell_type": "code",
   "execution_count": 12,
   "metadata": {},
   "outputs": [
    {
     "data": {
      "text/plain": [
       "0.8926"
      ]
     },
     "execution_count": 12,
     "metadata": {},
     "output_type": "execute_result"
    }
   ],
   "source": [
    "from sklearn.linear_model import LogisticRegression\n",
    "clf = LogisticRegression(random_state=0)\n",
    "clf.fit(X_train,y_train)\n",
    "res = clf.predict(X_test)\n",
    "np.mean(res == y_test)"
   ]
  },
  {
   "cell_type": "code",
   "execution_count": 13,
   "metadata": {},
   "outputs": [
    {
     "data": {
      "text/plain": [
       "0.9523"
      ]
     },
     "execution_count": 13,
     "metadata": {},
     "output_type": "execute_result"
    }
   ],
   "source": [
    "from sklearn.tree import DecisionTreeClassifier\n",
    "clf = DecisionTreeClassifier(random_state=0)\n",
    "clf.fit(X_train,y_train)\n",
    "res = clf.predict(X_test)\n",
    "np.mean(res == y_test)"
   ]
  },
  {
   "cell_type": "code",
   "execution_count": 18,
   "metadata": {},
   "outputs": [
    {
     "data": {
      "text/plain": [
       "0.8098"
      ]
     },
     "execution_count": 18,
     "metadata": {},
     "output_type": "execute_result"
    }
   ],
   "source": [
    "from sklearn.tree import ExtraTreeClassifier\n",
    "clf = ExtraTreeClassifier(random_state=0)\n",
    "clf.fit(X_train,y_train)\n",
    "res = clf.predict(X_test)\n",
    "np.mean(res == y_test)"
   ]
  },
  {
   "cell_type": "code",
   "execution_count": null,
   "metadata": {
    "collapsed": true
   },
   "outputs": [],
   "source": []
  }
 ],
 "metadata": {
  "kernelspec": {
   "display_name": "Python 3",
   "language": "python",
   "name": "python3"
  },
  "language_info": {
   "codemirror_mode": {
    "name": "ipython",
    "version": 3
   },
   "file_extension": ".py",
   "mimetype": "text/x-python",
   "name": "python",
   "nbconvert_exporter": "python",
   "pygments_lexer": "ipython3",
   "version": "3.6.3"
  }
 },
 "nbformat": 4,
 "nbformat_minor": 2
}
